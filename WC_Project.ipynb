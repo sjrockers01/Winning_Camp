{
  "nbformat": 4,
  "nbformat_minor": 0,
  "metadata": {
    "colab": {
      "name": "WC_Project.ipynb",
      "provenance": []
    },
    "kernelspec": {
      "name": "python3",
      "display_name": "Python 3"
    },
    "language_info": {
      "name": "python"
    }
  },
  "cells": [
    {
      "cell_type": "code",
      "source": [
        "pip install gnewsclient"
      ],
      "metadata": {
        "colab": {
          "base_uri": "https://localhost:8080/"
        },
        "id": "JV3GQmn9tSXL",
        "outputId": "e79391f7-492d-4df2-f3de-df9908802a93"
      },
      "execution_count": 2,
      "outputs": [
        {
          "output_type": "stream",
          "name": "stdout",
          "text": [
            "Looking in indexes: https://pypi.org/simple, https://us-python.pkg.dev/colab-wheels/public/simple/\n",
            "Collecting gnewsclient\n",
            "  Downloading gnewsclient-1.12-py3-none-any.whl (7.9 kB)\n",
            "Collecting feedparser\n",
            "  Downloading feedparser-6.0.10-py3-none-any.whl (81 kB)\n",
            "\u001b[K     |████████████████████████████████| 81 kB 5.4 MB/s \n",
            "\u001b[?25hCollecting fuzzywuzzy\n",
            "  Downloading fuzzywuzzy-0.18.0-py2.py3-none-any.whl (18 kB)\n",
            "Requirement already satisfied: requests in /usr/local/lib/python3.7/dist-packages (from gnewsclient) (2.23.0)\n",
            "Collecting sgmllib3k\n",
            "  Downloading sgmllib3k-1.0.0.tar.gz (5.8 kB)\n",
            "Requirement already satisfied: idna<3,>=2.5 in /usr/local/lib/python3.7/dist-packages (from requests->gnewsclient) (2.10)\n",
            "Requirement already satisfied: urllib3!=1.25.0,!=1.25.1,<1.26,>=1.21.1 in /usr/local/lib/python3.7/dist-packages (from requests->gnewsclient) (1.24.3)\n",
            "Requirement already satisfied: chardet<4,>=3.0.2 in /usr/local/lib/python3.7/dist-packages (from requests->gnewsclient) (3.0.4)\n",
            "Requirement already satisfied: certifi>=2017.4.17 in /usr/local/lib/python3.7/dist-packages (from requests->gnewsclient) (2022.6.15)\n",
            "Building wheels for collected packages: sgmllib3k\n",
            "  Building wheel for sgmllib3k (setup.py) ... \u001b[?25l\u001b[?25hdone\n",
            "  Created wheel for sgmllib3k: filename=sgmllib3k-1.0.0-py3-none-any.whl size=6066 sha256=043b4fbc93e0e64a83e7c5152fb9bafa52530c2b89e113a317758840d217d9f8\n",
            "  Stored in directory: /root/.cache/pip/wheels/73/ad/a4/0dff4a6ef231fc0dfa12ffbac2a36cebfdddfe059f50e019aa\n",
            "Successfully built sgmllib3k\n",
            "Installing collected packages: sgmllib3k, fuzzywuzzy, feedparser, gnewsclient\n",
            "Successfully installed feedparser-6.0.10 fuzzywuzzy-0.18.0 gnewsclient-1.12 sgmllib3k-1.0.0\n"
          ]
        }
      ]
    },
    {
      "cell_type": "code",
      "source": [
        ""
      ],
      "metadata": {
        "id": "ODg7cW47EiHd"
      },
      "execution_count": null,
      "outputs": []
    },
    {
      "cell_type": "code",
      "source": [
        "from gnewsclient import gnewsclient\n",
        "\n",
        "client = gnewsclient.NewsClient(language='english', #supports many languages like hindi , english , bengali , tamil , telugu etc\n",
        "                                \n",
        "\t\t\t\t\t\t\t\tlocation='india', #different results for different countries\n",
        "\n",
        "\t\t\t\t\t\t\t\ttopic='sports',#different topics to try : sports , nation , COVID 19 , india , world , business , technology , entertainment , science , health\n",
        "\t\t\t\t\t\t\t\t\n",
        "\t\t\t\t\t\t\t   \n",
        "\t\t\t\t\t\t\t\tmax_results=10) #to change number of results you want\n",
        "\n",
        "news_list = client.get_news()\n",
        "\n",
        "for item in news_list:\n",
        "\tprint(\"Title : \", item['title'])\n",
        "\tprint(\"Link : \", item['link']) \n",
        "\tprint(\"\")\n",
        "\n"
      ],
      "metadata": {
        "colab": {
          "base_uri": "https://localhost:8080/"
        },
        "id": "DpbPhuLrtV-1",
        "outputId": "ffc1e529-6f61-4fe0-d615-335657aea728"
      },
      "execution_count": 54,
      "outputs": [
        {
          "output_type": "stream",
          "name": "stdout",
          "text": [
            "Title :  'Batting superbly at the moment': Dravid's 3 opening options if Rohit misses out - Hindustan Times\n",
            "Link :  https://news.google.com/__i/rss/rd/articles/CBMiwgFodHRwczovL3d3dy5oaW5kdXN0YW50aW1lcy5jb20vY3JpY2tldC9yYWh1bC1kcmF2aWQtbGlzdHMtbWF5YW5rLWFnYXJ3YWwta3MtYmhhcmF0LWNoZXRlc2h3YXItcHVqYXJhLWFzLXRocmVlLW9wZW5pbmctb3B0aW9ucy1mb3ItaW5kaWEtaWYtcm9oaXQtc2hhcm1hLW1pc3Nlcy1vdXQtdnMtZW5nbGFuZC0xMDE2NTY1MTkwMDc4NjQuaHRtbNIBxgFodHRwczovL3d3dy5oaW5kdXN0YW50aW1lcy5jb20vY3JpY2tldC9yYWh1bC1kcmF2aWQtbGlzdHMtbWF5YW5rLWFnYXJ3YWwta3MtYmhhcmF0LWNoZXRlc2h3YXItcHVqYXJhLWFzLXRocmVlLW9wZW5pbmctb3B0aW9ucy1mb3ItaW5kaWEtaWYtcm9oaXQtc2hhcm1hLW1pc3Nlcy1vdXQtdnMtZW5nbGFuZC0xMDE2NTY1MTkwMDc4NjQtYW1wLmh0bWw?oc=5\n",
            "\n",
            "Title :  Sweet 16 For Novak Djokovic As Wimbledon Seeds Crash Out - NDTV Sports\n",
            "Link :  https://news.google.com/__i/rss/rd/articles/CBMiX2h0dHBzOi8vc3BvcnRzLm5kdHYuY29tL3Rlbm5pcy9zd2VldC0xNi1mb3Itbm92YWstZGpva292aWMtYXMtd2ltYmxlZG9uLXNlZWRzLWNyYXNoLW91dC0zMTEyOTUw0gFlaHR0cHM6Ly9zcG9ydHMubmR0di5jb20vdGVubmlzL3N3ZWV0LTE2LWZvci1ub3Zhay1kam9rb3ZpYy1hcy13aW1ibGVkb24tc2VlZHMtY3Jhc2gtb3V0LTMxMTI5NTAvYW1wLzE?oc=5\n",
            "\n",
            "Title :  Lukaku on loan for €8m - Transfer market master Marotta has done it again! - Goal.com\n",
            "Link :  https://news.google.com/__i/rss/rd/articles/CBMiZ2h0dHBzOi8vd3d3LmdvYWwuY29tL2VuLWluL2xpc3RzL3RyYW5zZmVyLW1hcmtldC1tYXN0ZXItYmVwcGUtbWFyb3R0YS1iZXN0LXNpZ25pbmdzL2JsdDk2Nzc0MzdkOTFlYjY5ZDjSAQA?oc=5\n",
            "\n",
            "Title :  Not focusing at all on what England's done - Rahul Dravid | Cricbuzz.com - Cricbuzz - Cricbuzz\n",
            "Link :  https://news.google.com/__i/rss/rd/articles/CBMib2h0dHBzOi8vd3d3LmNyaWNidXp6LmNvbS9jcmlja2V0LW5ld3MvMTIyODgwL25vdC1mb2N1c2luZy1hdC1hbGwtb24td2hhdC1lbmdsYW5kcy1kb25lLXJhaHVsLWRyYXZpZC1jcmljYnV6emNvbdIBcGh0dHA6Ly9tLmNyaWNidXp6LmNvbS9hbXAvY3JpY2tldC1uZXdzLzEyMjg4MC9ub3QtZm9jdXNpbmctYXQtYWxsLW9uLXdoYXQtZW5nbGFuZHMtZG9uZS1yYWh1bC1kcmF2aWQtY3JpY2J1enpjb20?oc=5\n",
            "\n",
            "Title :  Babar Azam surpasses Virat Kohli as world No. 1 T20I batter for longest period - Times of India\n",
            "Link :  https://news.google.com/__i/rss/rd/articles/CBMingFodHRwczovL3RpbWVzb2ZpbmRpYS5pbmRpYXRpbWVzLmNvbS9zcG9ydHMvY3JpY2tldC9uZXdzL2JhYmFyLWF6YW0tc3VycGFzc2VzLXZpcmF0LWtvaGxpLWFzLXdvcmxkLW5vLTEtdDIwaS1iYXR0ZXItZm9yLWxvbmdlc3QtcGVyaW9kL2FydGljbGVzaG93LzkyNTQyOTY1LmNtc9IBAA?oc=5\n",
            "\n",
            "Title :  SL vs AUS Dream11 Team Prediction: Sri Lanka vs Australia Check Captain, Vice-Captain, and Probable Playing - News18\n",
            "Link :  https://news.google.com/__i/rss/rd/articles/CBMi7wFodHRwczovL3d3dy5uZXdzMTguY29tL2NyaWNrZXRuZXh0L25ld3Mvc2wtdnMtYXVzLWRyZWFtMTEtdGVhbS1wcmVkaWN0aW9uLXNyaS1sYW5rYS12cy1hdXN0cmFsaWEtY2hlY2stY2FwdGFpbi12aWNlLWNhcHRhaW4tYW5kLXByb2JhYmxlLXBsYXlpbmcteGlzLWZvci13ZWRuZXNkYXlzLTFzdC10ZXN0LW1hdGNoLWp1bmUtMjktZ2FsbGUtaW50ZXJuYXRpb25hbC1zdGFkaXVtLTEwMDAtYW0taXN0LTU0NTcxNjMuaHRtbNIB8wFodHRwczovL3d3dy5uZXdzMTguY29tL2NyaWNrZXRuZXh0L2FtcC9uZXdzL3NsLXZzLWF1cy1kcmVhbTExLXRlYW0tcHJlZGljdGlvbi1zcmktbGFua2EtdnMtYXVzdHJhbGlhLWNoZWNrLWNhcHRhaW4tdmljZS1jYXB0YWluLWFuZC1wcm9iYWJsZS1wbGF5aW5nLXhpcy1mb3Itd2VkbmVzZGF5cy0xc3QtdGVzdC1tYXRjaC1qdW5lLTI5LWdhbGxlLWludGVybmF0aW9uYWwtc3RhZGl1bS0xMDAwLWFtLWlzdC01NDU3MTYzLmh0bWw?oc=5\n",
            "\n",
            "Title :  Moeen Ali predicts the outcome of India vs England fifth Test - Hindustan Times\n",
            "Link :  https://news.google.com/__i/rss/rd/articles/CBMiqgFodHRwczovL3d3dy5oaW5kdXN0YW50aW1lcy5jb20vY3JpY2tldC9pZi10aGlzLXNlcmllcy1oYWQtZmluaXNoZWQtbGFzdC15ZWFyLWluZGlhLXdvdWxkLXZlLXdvbi1idXQtbm93LW1vZWVuLWFsaS1wcmVkaWN0cy13aGljaC13YXktNXRoLXRlc3Qtd2lsbC1nby0xMDE2NTY0ODc5NjQ1OTkuaHRtbNIBrgFodHRwczovL3d3dy5oaW5kdXN0YW50aW1lcy5jb20vY3JpY2tldC9pZi10aGlzLXNlcmllcy1oYWQtZmluaXNoZWQtbGFzdC15ZWFyLWluZGlhLXdvdWxkLXZlLXdvbi1idXQtbm93LW1vZWVuLWFsaS1wcmVkaWN0cy13aGljaC13YXktNXRoLXRlc3Qtd2lsbC1nby0xMDE2NTY0ODc5NjQ1OTktYW1wLmh0bWw?oc=5\n",
            "\n",
            "Title :  India vs Ireland 2nd T20 Highlights: India survive late scare, defeat Ireland by 4 runs to clinch series - The Indian Express\n",
            "Link :  https://news.google.com/__i/rss/rd/articles/CBMiZmh0dHBzOi8vaW5kaWFuZXhwcmVzcy5jb20vYXJ0aWNsZS9zcG9ydHMvY3JpY2tldC9pbmRpYS12cy1pcmVsYW5kLTJuZC10MjBpLWxpdmUtc2NvcmUtdXBkYXRlcy03OTk2NTczL9IBa2h0dHBzOi8vaW5kaWFuZXhwcmVzcy5jb20vYXJ0aWNsZS9zcG9ydHMvY3JpY2tldC9pbmRpYS12cy1pcmVsYW5kLTJuZC10MjBpLWxpdmUtc2NvcmUtdXBkYXRlcy03OTk2NTczL2xpdGUv?oc=5\n",
            "\n",
            "Title :  Athiya Shetty's Insta story seconds after Rahul posts photo from hospital bed - Hindustan Times\n",
            "Link :  https://news.google.com/__i/rss/rd/articles/CBMinwFodHRwczovL3d3dy5oaW5kdXN0YW50aW1lcy5jb20vY3JpY2tldC9hdGhpeWEtc2hldHR5LXMtaW5zdGEtc3Rvcnktc2Vjb25kcy1hZnRlci1rbC1yYWh1bC1naXZlcy1pbmp1cnktdXBkYXRlLXdpdGgtcGhvdG8tZnJvbS1ob3NwaXRhbC1iZWQtMTAxNjU2NTU2ODAyMTc3Lmh0bWzSAaMBaHR0cHM6Ly93d3cuaGluZHVzdGFudGltZXMuY29tL2NyaWNrZXQvYXRoaXlhLXNoZXR0eS1zLWluc3RhLXN0b3J5LXNlY29uZHMtYWZ0ZXIta2wtcmFodWwtZ2l2ZXMtaW5qdXJ5LXVwZGF0ZS13aXRoLXBob3RvLWZyb20taG9zcGl0YWwtYmVkLTEwMTY1NjU1NjgwMjE3Ny1hbXAuaHRtbA?oc=5\n",
            "\n",
            "Title :  Ricardas Berankis On Rafael Nadal: 'He Never Gives You A Point, Not One' - ATP Tour\n",
            "Link :  https://news.google.com/__i/rss/rd/articles/CBMiP2h0dHBzOi8vd3d3LmF0cHRvdXIuY29tL2VuL25ld3MvYmVyYW5raXMtd2ltYmxlZG9uLTIwMjItZmVhdHVyZdIBAA?oc=5\n",
            "\n"
          ]
        }
      ]
    },
    {
      "cell_type": "code",
      "source": [
        "client.get_news()"
      ],
      "metadata": {
        "colab": {
          "base_uri": "https://localhost:8080/"
        },
        "id": "kuoJWmMrCS5d",
        "outputId": "166e84f7-fd1d-4498-a833-59d88e2750c3"
      },
      "execution_count": 42,
      "outputs": [
        {
          "output_type": "execute_result",
          "data": {
            "text/plain": [
              "[{'link': 'https://news.google.com/__i/rss/rd/articles/CBMiwgFodHRwczovL3d3dy5oaW5kdXN0YW50aW1lcy5jb20vY3JpY2tldC9yYWh1bC1kcmF2aWQtbGlzdHMtbWF5YW5rLWFnYXJ3YWwta3MtYmhhcmF0LWNoZXRlc2h3YXItcHVqYXJhLWFzLXRocmVlLW9wZW5pbmctb3B0aW9ucy1mb3ItaW5kaWEtaWYtcm9oaXQtc2hhcm1hLW1pc3Nlcy1vdXQtdnMtZW5nbGFuZC0xMDE2NTY1MTkwMDc4NjQuaHRtbNIBAA?oc=5',\n",
              "  'media': None,\n",
              "  'title': \"'Batting superbly at the moment': Dravid's 3 opening options if Rohit misses out - Hindustan Times\"},\n",
              " {'link': 'https://news.google.com/__i/rss/rd/articles/CBMiQWh0dHBzOi8vd3d3LmF0cHRvdXIuY29tL2VuL25ld3MvbXVycmF5LXdpbWJsZWRvbi0yMDIyLXIyLXJlYWN0aW9u0gEA?oc=5',\n",
              "  'media': None,\n",
              "  'title': \"Andy Murray Rues Missed Wimbledon Chance: 'Who Knows What Would Have Happened' - ATP Tour\"},\n",
              " {'link': 'https://news.google.com/__i/rss/rd/articles/CBMiZ2h0dHBzOi8vd3d3LmdvYWwuY29tL2VuLWluL2xpc3RzL3RyYW5zZmVyLW1hcmtldC1tYXN0ZXItYmVwcGUtbWFyb3R0YS1iZXN0LXNpZ25pbmdzL2JsdDk2Nzc0MzdkOTFlYjY5ZDjSAQA?oc=5',\n",
              "  'media': None,\n",
              "  'title': 'Lukaku on loan for €8m - Transfer market master Marotta has done it again! - Goal.com'},\n",
              " {'link': 'https://news.google.com/__i/rss/rd/articles/CBMiX2h0dHBzOi8vc3BvcnRzLm5kdHYuY29tL3Rlbm5pcy9zd2VldC0xNi1mb3Itbm92YWstZGpva292aWMtYXMtd2ltYmxlZG9uLXNlZWRzLWNyYXNoLW91dC0zMTEyOTUw0gEA?oc=5',\n",
              "  'media': None,\n",
              "  'title': 'Sweet 16 For Novak Djokovic As Wimbledon Seeds Crash Out - NDTV Sports'},\n",
              " {'link': 'https://news.google.com/__i/rss/rd/articles/CBMib2h0dHBzOi8vd3d3LmNyaWNidXp6LmNvbS9jcmlja2V0LW5ld3MvMTIyODgwL25vdC1mb2N1c2luZy1hdC1hbGwtb24td2hhdC1lbmdsYW5kcy1kb25lLXJhaHVsLWRyYXZpZC1jcmljYnV6emNvbdIBcGh0dHA6Ly9tLmNyaWNidXp6LmNvbS9hbXAvY3JpY2tldC1uZXdzLzEyMjg4MC9ub3QtZm9jdXNpbmctYXQtYWxsLW9uLXdoYXQtZW5nbGFuZHMtZG9uZS1yYWh1bC1kcmF2aWQtY3JpY2J1enpjb20?oc=5',\n",
              "  'media': None,\n",
              "  'title': \"Not focusing at all on what England's done - Rahul Dravid | Cricbuzz.com - Cricbuzz - Cricbuzz\"},\n",
              " {'link': 'https://news.google.com/__i/rss/rd/articles/CBMingFodHRwczovL3RpbWVzb2ZpbmRpYS5pbmRpYXRpbWVzLmNvbS9zcG9ydHMvY3JpY2tldC9uZXdzL2JhYmFyLWF6YW0tc3VycGFzc2VzLXZpcmF0LWtvaGxpLWFzLXdvcmxkLW5vLTEtdDIwaS1iYXR0ZXItZm9yLWxvbmdlc3QtcGVyaW9kL2FydGljbGVzaG93LzkyNTQyOTY1LmNtc9IBAA?oc=5',\n",
              "  'media': None,\n",
              "  'title': 'Babar Azam surpasses Virat Kohli as world No. 1 T20I batter for longest period - Times of India'},\n",
              " {'link': 'https://news.google.com/__i/rss/rd/articles/CBMiogFodHRwczovL3d3dy5oaW5kdXN0YW50aW1lcy5jb20vY3JpY2tldC93YXRjaC1zdGV2ZS1zbWl0aC1sZWZ0LWZ1bWluZy1hdC11c21hbi1raGF3YWphLWFmdGVyLWhvcnJpYmxlLW1peC11cC1kdXJpbmctMXN0LXRlc3QtYWdhaW5zdC1zcmktbGFua2EtMTAxNjU2NTEyMjY5NjExLmh0bWzSAQA?oc=5',\n",
              "  'media': None,\n",
              "  'title': 'Watch: Smith left fuming at Khawaja after horrible mix-up during 1st Test vs SL - Hindustan Times'},\n",
              " {'link': 'https://news.google.com/__i/rss/rd/articles/CBMiqgFodHRwczovL3d3dy5oaW5kdXN0YW50aW1lcy5jb20vY3JpY2tldC9pZi10aGlzLXNlcmllcy1oYWQtZmluaXNoZWQtbGFzdC15ZWFyLWluZGlhLXdvdWxkLXZlLXdvbi1idXQtbm93LW1vZWVuLWFsaS1wcmVkaWN0cy13aGljaC13YXktNXRoLXRlc3Qtd2lsbC1nby0xMDE2NTY0ODc5NjQ1OTkuaHRtbNIBAA?oc=5',\n",
              "  'media': None,\n",
              "  'title': 'Moeen Ali predicts the outcome of India vs England fifth Test - Hindustan Times'},\n",
              " {'link': 'https://news.google.com/__i/rss/rd/articles/CBMiZmh0dHBzOi8vaW5kaWFuZXhwcmVzcy5jb20vYXJ0aWNsZS9zcG9ydHMvY3JpY2tldC9pbmRpYS12cy1pcmVsYW5kLTJuZC10MjBpLWxpdmUtc2NvcmUtdXBkYXRlcy03OTk2NTczL9IBAA?oc=5',\n",
              "  'media': None,\n",
              "  'title': 'India vs Ireland 2nd T20 Highlights: India survive late scare, defeat Ireland by 4 runs to clinch series - The Indian Express'},\n",
              " {'link': 'https://news.google.com/__i/rss/rd/articles/CBMinwFodHRwczovL3d3dy5oaW5kdXN0YW50aW1lcy5jb20vY3JpY2tldC9hdGhpeWEtc2hldHR5LXMtaW5zdGEtc3Rvcnktc2Vjb25kcy1hZnRlci1rbC1yYWh1bC1naXZlcy1pbmp1cnktdXBkYXRlLXdpdGgtcGhvdG8tZnJvbS1ob3NwaXRhbC1iZWQtMTAxNjU2NTU2ODAyMTc3Lmh0bWzSAQA?oc=5',\n",
              "  'media': None,\n",
              "  'title': \"Athiya Shetty's Insta story seconds after Rahul posts photo from hospital bed - Hindustan Times\"}]"
            ]
          },
          "metadata": {},
          "execution_count": 42
        }
      ]
    },
    {
      "cell_type": "code",
      "source": [
        "client.locations\n"
      ],
      "metadata": {
        "colab": {
          "base_uri": "https://localhost:8080/"
        },
        "id": "mG_uRMLyBoYe",
        "outputId": "addaff6f-0ce7-4fca-9d28-c61fd3d742d0"
      },
      "execution_count": 39,
      "outputs": [
        {
          "output_type": "execute_result",
          "data": {
            "text/plain": [
              "['Australia',\n",
              " 'Botswana',\n",
              " 'Canada ',\n",
              " 'Ethiopia',\n",
              " 'Ghana',\n",
              " 'India ',\n",
              " 'Indonesia',\n",
              " 'Ireland',\n",
              " 'Israel ',\n",
              " 'Kenya',\n",
              " 'Latvia',\n",
              " 'Malaysia',\n",
              " 'Namibia',\n",
              " 'New Zealand',\n",
              " 'Nigeria',\n",
              " 'Pakistan',\n",
              " 'Philippines',\n",
              " 'Singapore',\n",
              " 'South Africa',\n",
              " 'Tanzania',\n",
              " 'Uganda',\n",
              " 'United Kingdom',\n",
              " 'United States',\n",
              " 'Zimbabwe',\n",
              " 'Czech Republic',\n",
              " 'Germany',\n",
              " 'Austria',\n",
              " 'Switzerland',\n",
              " 'Argentina',\n",
              " 'Chile',\n",
              " 'Colombia',\n",
              " 'Cuba',\n",
              " 'Mexico',\n",
              " 'Peru',\n",
              " 'Venezuela',\n",
              " 'Belgium ',\n",
              " 'France',\n",
              " 'Morocco',\n",
              " 'Senegal',\n",
              " 'Italy',\n",
              " 'Lithuania',\n",
              " 'Hungary',\n",
              " 'Netherlands',\n",
              " 'Norway',\n",
              " 'Poland',\n",
              " 'Brazil',\n",
              " 'Portugal',\n",
              " 'Romania',\n",
              " 'Slovakia',\n",
              " 'Slovenia',\n",
              " 'Sweden',\n",
              " 'Vietnam',\n",
              " 'Turkey',\n",
              " 'Greece',\n",
              " 'Bulgaria',\n",
              " 'Russia',\n",
              " 'Ukraine ',\n",
              " 'Serbia',\n",
              " 'United Arab Emirates',\n",
              " 'Saudi Arabia',\n",
              " 'Lebanon',\n",
              " 'Egypt',\n",
              " 'Bangladesh',\n",
              " 'Thailand',\n",
              " 'China',\n",
              " 'Taiwan',\n",
              " 'Hong Kong',\n",
              " 'Japan',\n",
              " 'Republic of Korea']"
            ]
          },
          "metadata": {},
          "execution_count": 39
        }
      ]
    },
    {
      "cell_type": "code",
      "source": [
        "client.languages"
      ],
      "metadata": {
        "colab": {
          "base_uri": "https://localhost:8080/"
        },
        "id": "2qZI2BDvBuAc",
        "outputId": "c2737cdb-2fe2-406e-b8ab-5bbfd968f6b9"
      },
      "execution_count": 36,
      "outputs": [
        {
          "output_type": "execute_result",
          "data": {
            "text/plain": [
              "['english',\n",
              " 'indonesian',\n",
              " 'czech',\n",
              " 'german',\n",
              " 'spanish',\n",
              " 'french',\n",
              " 'italian',\n",
              " 'latvian',\n",
              " 'lithuanian',\n",
              " 'hungarian',\n",
              " 'dutch',\n",
              " 'norwegian',\n",
              " 'polish',\n",
              " 'portuguese brasil',\n",
              " 'portuguese portugal',\n",
              " 'romanian',\n",
              " 'slovak',\n",
              " 'slovenian',\n",
              " 'swedish',\n",
              " 'vietnamese',\n",
              " 'turkish',\n",
              " 'greek',\n",
              " 'bulgarian',\n",
              " 'russian',\n",
              " 'serbian',\n",
              " 'ukrainian',\n",
              " 'hebrew',\n",
              " 'arabic',\n",
              " 'marathi',\n",
              " 'hindi',\n",
              " 'bengali',\n",
              " 'tamil',\n",
              " 'telugu',\n",
              " 'malyalam',\n",
              " 'thai',\n",
              " 'chinese simplified',\n",
              " 'chinese traditional',\n",
              " 'japanese',\n",
              " 'korean']"
            ]
          },
          "metadata": {},
          "execution_count": 36
        }
      ]
    },
    {
      "cell_type": "code",
      "source": [
        "client.topics"
      ],
      "metadata": {
        "colab": {
          "base_uri": "https://localhost:8080/"
        },
        "id": "8RK5DmkhB00C",
        "outputId": "a661552a-afb8-4918-89a5-62d4b11d272e"
      },
      "execution_count": 37,
      "outputs": [
        {
          "output_type": "execute_result",
          "data": {
            "text/plain": [
              "['Top Stories',\n",
              " 'World',\n",
              " 'Nation',\n",
              " 'Business',\n",
              " 'Technology',\n",
              " 'Entertainment',\n",
              " 'Sports',\n",
              " 'Science',\n",
              " 'Health']"
            ]
          },
          "metadata": {},
          "execution_count": 37
        }
      ]
    }
  ]
}